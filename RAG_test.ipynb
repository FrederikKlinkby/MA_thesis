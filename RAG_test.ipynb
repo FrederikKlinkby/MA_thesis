{
 "cells": [
  {
   "cell_type": "code",
   "execution_count": 7,
   "metadata": {},
   "outputs": [],
   "source": [
    "import os\n",
    "from dotenv import find_dotenv, load_dotenv\n",
    "\n",
    "dotenv_path = find_dotenv()\n",
    "load_dotenv(dotenv_path)\n",
    "\n",
    "openai_api_key = os.getenv('OPENAI-API-KEY')\n",
    "langchain_api_key = os.getenv('LANGCHAIN-API-KEY')"
   ]
  },
  {
   "cell_type": "code",
   "execution_count": 13,
   "metadata": {},
   "outputs": [],
   "source": [
    "import bs4\n",
    "from langchain import hub\n",
    "from langchain.chains import create_retrieval_chain\n",
    "from langchain.chains.combine_documents import create_stuff_documents_chain\n",
    "from langchain_chroma import Chroma\n",
    "from langchain_community.document_loaders import WebBaseLoader\n",
    "from langchain_core.prompts import ChatPromptTemplate\n",
    "from langchain_openai import OpenAIEmbeddings, ChatOpenAI\n",
    "from langchain_text_splitters import RecursiveCharacterTextSplitter"
   ]
  },
  {
   "cell_type": "code",
   "execution_count": 11,
   "metadata": {},
   "outputs": [],
   "source": [
    "llm = ChatOpenAI(model=\"gpt-4o-mini\", api_key=openai_api_key)"
   ]
  },
  {
   "cell_type": "code",
   "execution_count": 23,
   "metadata": {},
   "outputs": [],
   "source": [
    "loader = WebBaseLoader(\n",
    "    web_paths=(\"https://www.fcm.dk/billetter/\",),\n",
    "    bs_kwargs=dict(\n",
    "        parse_only=bs4.SoupStrainer(\n",
    "            class_=(\"post-content\", \"post-title\", \"post-header\")\n",
    "        )\n",
    "    ),\n",
    ")\n",
    "docs = loader.load()\n",
    "text_splitter = RecursiveCharacterTextSplitter(chunk_size=100, chunk_overlap=20)\n",
    "splits = text_splitter.split_documents(docs)"
   ]
  },
  {
   "cell_type": "code",
   "execution_count": 25,
   "metadata": {},
   "outputs": [
    {
     "name": "stdout",
     "output_type": "stream",
     "text": [
      "Loaded 1 documents\n",
      "Number of splits: 0\n",
      "[]\n"
     ]
    }
   ],
   "source": [
    "print(f\"Loaded {len(docs)} documents\")\n",
    "print(f\"Number of splits: {len(splits)}\") #No splits are made!\n",
    "print(splits[:5])  # Print the first few splits to inspect their content\n"
   ]
  },
  {
   "cell_type": "code",
   "execution_count": 24,
   "metadata": {},
   "outputs": [
    {
     "ename": "IndexError",
     "evalue": "list index out of range in upsert.",
     "output_type": "error",
     "traceback": [
      "\u001b[0;31m---------------------------------------------------------------------------\u001b[0m",
      "\u001b[0;31mIndexError\u001b[0m                                Traceback (most recent call last)",
      "File \u001b[0;32m~/Repos/MA_thesis/venv/lib/python3.11/site-packages/chromadb/api/models/CollectionCommon.py:90\u001b[0m, in \u001b[0;36mvalidation_context.<locals>.decorator.<locals>.wrapper\u001b[0;34m(self, *args, **kwargs)\u001b[0m\n\u001b[1;32m     89\u001b[0m \u001b[39mtry\u001b[39;00m:\n\u001b[0;32m---> 90\u001b[0m     \u001b[39mreturn\u001b[39;00m func(\u001b[39mself\u001b[39;49m, \u001b[39m*\u001b[39;49margs, \u001b[39m*\u001b[39;49m\u001b[39m*\u001b[39;49mkwargs)\n\u001b[1;32m     91\u001b[0m \u001b[39mexcept\u001b[39;00m \u001b[39mException\u001b[39;00m \u001b[39mas\u001b[39;00m e:\n",
      "File \u001b[0;32m~/Repos/MA_thesis/venv/lib/python3.11/site-packages/chromadb/api/models/CollectionCommon.py:389\u001b[0m, in \u001b[0;36mCollectionCommon._validate_and_prepare_upsert_request\u001b[0;34m(self, ids, embeddings, metadatas, documents, images, uris)\u001b[0m\n\u001b[1;32m    373\u001b[0m \u001b[39m@validation_context\u001b[39m(\u001b[39m\"\u001b[39m\u001b[39mupsert\u001b[39m\u001b[39m\"\u001b[39m)\n\u001b[1;32m    374\u001b[0m \u001b[39mdef\u001b[39;00m \u001b[39m_validate_and_prepare_upsert_request\u001b[39m(\n\u001b[1;32m    375\u001b[0m     \u001b[39mself\u001b[39m,\n\u001b[0;32m   (...)\u001b[0m\n\u001b[1;32m    387\u001b[0m ) \u001b[39m-\u001b[39m\u001b[39m>\u001b[39m UpsertRequest:\n\u001b[1;32m    388\u001b[0m     \u001b[39m# Unpack\u001b[39;00m\n\u001b[0;32m--> 389\u001b[0m     upsert_records \u001b[39m=\u001b[39m normalize_insert_record_set(\n\u001b[1;32m    390\u001b[0m         ids\u001b[39m=\u001b[39;49mids,\n\u001b[1;32m    391\u001b[0m         embeddings\u001b[39m=\u001b[39;49membeddings,\n\u001b[1;32m    392\u001b[0m         metadatas\u001b[39m=\u001b[39;49mmetadatas,\n\u001b[1;32m    393\u001b[0m         documents\u001b[39m=\u001b[39;49mdocuments,\n\u001b[1;32m    394\u001b[0m         images\u001b[39m=\u001b[39;49mimages,\n\u001b[1;32m    395\u001b[0m         uris\u001b[39m=\u001b[39;49muris,\n\u001b[1;32m    396\u001b[0m     )\n\u001b[1;32m    398\u001b[0m     \u001b[39m# Validate\u001b[39;00m\n",
      "File \u001b[0;32m~/Repos/MA_thesis/venv/lib/python3.11/site-packages/chromadb/api/types.py:181\u001b[0m, in \u001b[0;36mnormalize_insert_record_set\u001b[0;34m(ids, embeddings, metadatas, documents, images, uris)\u001b[0m\n\u001b[1;32m    178\u001b[0m \u001b[39m\u001b[39m\u001b[39m\"\"\"\u001b[39;00m\n\u001b[1;32m    179\u001b[0m \u001b[39mUnpacks and normalizes the fields of an InsertRecordSet.\u001b[39;00m\n\u001b[1;32m    180\u001b[0m \u001b[39m\"\"\"\u001b[39;00m\n\u001b[0;32m--> 181\u001b[0m base_record_set \u001b[39m=\u001b[39m normalize_base_record_set(\n\u001b[1;32m    182\u001b[0m     embeddings\u001b[39m=\u001b[39;49membeddings, documents\u001b[39m=\u001b[39;49mdocuments, images\u001b[39m=\u001b[39;49mimages, uris\u001b[39m=\u001b[39;49muris\n\u001b[1;32m    183\u001b[0m )\n\u001b[1;32m    185\u001b[0m \u001b[39mreturn\u001b[39;00m InsertRecordSet(\n\u001b[1;32m    186\u001b[0m     ids\u001b[39m=\u001b[39mcast(IDs, maybe_cast_one_to_many(ids)),\n\u001b[1;32m    187\u001b[0m     metadatas\u001b[39m=\u001b[39mmaybe_cast_one_to_many(metadatas),\n\u001b[0;32m   (...)\u001b[0m\n\u001b[1;32m    191\u001b[0m     uris\u001b[39m=\u001b[39mbase_record_set[\u001b[39m\"\u001b[39m\u001b[39muris\u001b[39m\u001b[39m\"\u001b[39m],\n\u001b[1;32m    192\u001b[0m )\n",
      "File \u001b[0;32m~/Repos/MA_thesis/venv/lib/python3.11/site-packages/chromadb/api/types.py:158\u001b[0m, in \u001b[0;36mnormalize_base_record_set\u001b[0;34m(embeddings, documents, images, uris)\u001b[0m\n\u001b[1;32m    153\u001b[0m \u001b[39m\u001b[39m\u001b[39m\"\"\"\u001b[39;00m\n\u001b[1;32m    154\u001b[0m \u001b[39mUnpacks and normalizes the fields of a BaseRecordSet.\u001b[39;00m\n\u001b[1;32m    155\u001b[0m \u001b[39m\"\"\"\u001b[39;00m\n\u001b[1;32m    157\u001b[0m \u001b[39mreturn\u001b[39;00m BaseRecordSet(\n\u001b[0;32m--> 158\u001b[0m     embeddings\u001b[39m=\u001b[39mnormalize_embeddings(embeddings),\n\u001b[1;32m    159\u001b[0m     documents\u001b[39m=\u001b[39mmaybe_cast_one_to_many(documents),\n\u001b[1;32m    160\u001b[0m     images\u001b[39m=\u001b[39mmaybe_cast_one_to_many(images),\n\u001b[1;32m    161\u001b[0m     uris\u001b[39m=\u001b[39mmaybe_cast_one_to_many(uris),\n\u001b[1;32m    162\u001b[0m )\n",
      "File \u001b[0;32m~/Repos/MA_thesis/venv/lib/python3.11/site-packages/chromadb/api/types.py:61\u001b[0m, in \u001b[0;36mnormalize_embeddings\u001b[0;34m(target)\u001b[0m\n\u001b[1;32m     59\u001b[0m \u001b[39mif\u001b[39;00m \u001b[39misinstance\u001b[39m(target, \u001b[39mlist\u001b[39m):\n\u001b[1;32m     60\u001b[0m     \u001b[39m# One PyEmbedding\u001b[39;00m\n\u001b[0;32m---> 61\u001b[0m     \u001b[39mif\u001b[39;00m \u001b[39misinstance\u001b[39m(target[\u001b[39m0\u001b[39;49m], (\u001b[39mint\u001b[39m, \u001b[39mfloat\u001b[39m)) \u001b[39mand\u001b[39;00m \u001b[39mnot\u001b[39;00m \u001b[39misinstance\u001b[39m(target[\u001b[39m0\u001b[39m], \u001b[39mbool\u001b[39m):\n\u001b[1;32m     62\u001b[0m         \u001b[39mreturn\u001b[39;00m [np\u001b[39m.\u001b[39marray(target, dtype\u001b[39m=\u001b[39mnp\u001b[39m.\u001b[39mfloat32)]\n",
      "\u001b[0;31mIndexError\u001b[0m: list index out of range",
      "\nDuring handling of the above exception, another exception occurred:\n",
      "\u001b[0;31mIndexError\u001b[0m                                Traceback (most recent call last)",
      "Cell \u001b[0;32mIn[24], line 2\u001b[0m\n\u001b[1;32m      1\u001b[0m \u001b[39m#Define vectorstore and retriever\u001b[39;00m\n\u001b[0;32m----> 2\u001b[0m vectorstore \u001b[39m=\u001b[39m Chroma\u001b[39m.\u001b[39;49mfrom_documents(documents\u001b[39m=\u001b[39;49msplits, embedding\u001b[39m=\u001b[39;49mOpenAIEmbeddings(api_key\u001b[39m=\u001b[39;49mopenai_api_key))\n\u001b[1;32m      3\u001b[0m retriever \u001b[39m=\u001b[39m vectorstore\u001b[39m.\u001b[39mas_retriever()\n",
      "File \u001b[0;32m~/Repos/MA_thesis/venv/lib/python3.11/site-packages/langchain_chroma/vectorstores.py:1128\u001b[0m, in \u001b[0;36mChroma.from_documents\u001b[0;34m(cls, documents, embedding, ids, collection_name, persist_directory, client_settings, client, collection_metadata, **kwargs)\u001b[0m\n\u001b[1;32m   1126\u001b[0m texts \u001b[39m=\u001b[39m [doc\u001b[39m.\u001b[39mpage_content \u001b[39mfor\u001b[39;00m doc \u001b[39min\u001b[39;00m documents]\n\u001b[1;32m   1127\u001b[0m metadatas \u001b[39m=\u001b[39m [doc\u001b[39m.\u001b[39mmetadata \u001b[39mfor\u001b[39;00m doc \u001b[39min\u001b[39;00m documents]\n\u001b[0;32m-> 1128\u001b[0m \u001b[39mreturn\u001b[39;00m \u001b[39mcls\u001b[39;49m\u001b[39m.\u001b[39;49mfrom_texts(\n\u001b[1;32m   1129\u001b[0m     texts\u001b[39m=\u001b[39;49mtexts,\n\u001b[1;32m   1130\u001b[0m     embedding\u001b[39m=\u001b[39;49membedding,\n\u001b[1;32m   1131\u001b[0m     metadatas\u001b[39m=\u001b[39;49mmetadatas,\n\u001b[1;32m   1132\u001b[0m     ids\u001b[39m=\u001b[39;49mids,\n\u001b[1;32m   1133\u001b[0m     collection_name\u001b[39m=\u001b[39;49mcollection_name,\n\u001b[1;32m   1134\u001b[0m     persist_directory\u001b[39m=\u001b[39;49mpersist_directory,\n\u001b[1;32m   1135\u001b[0m     client_settings\u001b[39m=\u001b[39;49mclient_settings,\n\u001b[1;32m   1136\u001b[0m     client\u001b[39m=\u001b[39;49mclient,\n\u001b[1;32m   1137\u001b[0m     collection_metadata\u001b[39m=\u001b[39;49mcollection_metadata,\n\u001b[1;32m   1138\u001b[0m     \u001b[39m*\u001b[39;49m\u001b[39m*\u001b[39;49mkwargs,\n\u001b[1;32m   1139\u001b[0m )\n",
      "File \u001b[0;32m~/Repos/MA_thesis/venv/lib/python3.11/site-packages/langchain_chroma/vectorstores.py:1089\u001b[0m, in \u001b[0;36mChroma.from_texts\u001b[0;34m(cls, texts, embedding, metadatas, ids, collection_name, persist_directory, client_settings, client, collection_metadata, **kwargs)\u001b[0m\n\u001b[1;32m   1083\u001b[0m         chroma_collection\u001b[39m.\u001b[39madd_texts(\n\u001b[1;32m   1084\u001b[0m             texts\u001b[39m=\u001b[39mbatch[\u001b[39m3\u001b[39m] \u001b[39mif\u001b[39;00m batch[\u001b[39m3\u001b[39m] \u001b[39melse\u001b[39;00m [],\n\u001b[1;32m   1085\u001b[0m             metadatas\u001b[39m=\u001b[39mbatch[\u001b[39m2\u001b[39m] \u001b[39mif\u001b[39;00m batch[\u001b[39m2\u001b[39m] \u001b[39melse\u001b[39;00m \u001b[39mNone\u001b[39;00m,  \u001b[39m# type: ignore\u001b[39;00m\n\u001b[1;32m   1086\u001b[0m             ids\u001b[39m=\u001b[39mbatch[\u001b[39m0\u001b[39m],\n\u001b[1;32m   1087\u001b[0m         )\n\u001b[1;32m   1088\u001b[0m \u001b[39melse\u001b[39;00m:\n\u001b[0;32m-> 1089\u001b[0m     chroma_collection\u001b[39m.\u001b[39;49madd_texts(texts\u001b[39m=\u001b[39;49mtexts, metadatas\u001b[39m=\u001b[39;49mmetadatas, ids\u001b[39m=\u001b[39;49mids)\n\u001b[1;32m   1090\u001b[0m \u001b[39mreturn\u001b[39;00m chroma_collection\n",
      "File \u001b[0;32m~/Repos/MA_thesis/venv/lib/python3.11/site-packages/langchain_chroma/vectorstores.py:557\u001b[0m, in \u001b[0;36mChroma.add_texts\u001b[0;34m(self, texts, metadatas, ids, **kwargs)\u001b[0m\n\u001b[1;32m    551\u001b[0m         \u001b[39mself\u001b[39m\u001b[39m.\u001b[39m_collection\u001b[39m.\u001b[39mupsert(\n\u001b[1;32m    552\u001b[0m             embeddings\u001b[39m=\u001b[39membeddings_without_metadatas,  \u001b[39m# type: ignore\u001b[39;00m\n\u001b[1;32m    553\u001b[0m             documents\u001b[39m=\u001b[39mtexts_without_metadatas,\n\u001b[1;32m    554\u001b[0m             ids\u001b[39m=\u001b[39mids_without_metadatas,\n\u001b[1;32m    555\u001b[0m         )\n\u001b[1;32m    556\u001b[0m \u001b[39melse\u001b[39;00m:\n\u001b[0;32m--> 557\u001b[0m     \u001b[39mself\u001b[39;49m\u001b[39m.\u001b[39;49m_collection\u001b[39m.\u001b[39;49mupsert(\n\u001b[1;32m    558\u001b[0m         embeddings\u001b[39m=\u001b[39;49membeddings,  \u001b[39m# type: ignore\u001b[39;49;00m\n\u001b[1;32m    559\u001b[0m         documents\u001b[39m=\u001b[39;49mtexts,\n\u001b[1;32m    560\u001b[0m         ids\u001b[39m=\u001b[39;49mids,\n\u001b[1;32m    561\u001b[0m     )\n\u001b[1;32m    562\u001b[0m \u001b[39mreturn\u001b[39;00m ids\n",
      "File \u001b[0;32m~/Repos/MA_thesis/venv/lib/python3.11/site-packages/chromadb/api/models/Collection.py:334\u001b[0m, in \u001b[0;36mCollection.upsert\u001b[0;34m(self, ids, embeddings, metadatas, documents, images, uris)\u001b[0m\n\u001b[1;32m    309\u001b[0m \u001b[39mdef\u001b[39;00m \u001b[39mupsert\u001b[39m(\n\u001b[1;32m    310\u001b[0m     \u001b[39mself\u001b[39m,\n\u001b[1;32m    311\u001b[0m     ids: OneOrMany[ID],\n\u001b[0;32m   (...)\u001b[0m\n\u001b[1;32m    321\u001b[0m     uris: Optional[OneOrMany[URI]] \u001b[39m=\u001b[39m \u001b[39mNone\u001b[39;00m,\n\u001b[1;32m    322\u001b[0m ) \u001b[39m-\u001b[39m\u001b[39m>\u001b[39m \u001b[39mNone\u001b[39;00m:\n\u001b[1;32m    323\u001b[0m \u001b[39m    \u001b[39m\u001b[39m\"\"\"Update the embeddings, metadatas or documents for provided ids, or create them if they don't exist.\u001b[39;00m\n\u001b[1;32m    324\u001b[0m \n\u001b[1;32m    325\u001b[0m \u001b[39m    Args:\u001b[39;00m\n\u001b[0;32m   (...)\u001b[0m\n\u001b[1;32m    332\u001b[0m \u001b[39m        None\u001b[39;00m\n\u001b[1;32m    333\u001b[0m \u001b[39m    \"\"\"\u001b[39;00m\n\u001b[0;32m--> 334\u001b[0m     upsert_request \u001b[39m=\u001b[39m \u001b[39mself\u001b[39;49m\u001b[39m.\u001b[39;49m_validate_and_prepare_upsert_request(\n\u001b[1;32m    335\u001b[0m         ids\u001b[39m=\u001b[39;49mids,\n\u001b[1;32m    336\u001b[0m         embeddings\u001b[39m=\u001b[39;49membeddings,\n\u001b[1;32m    337\u001b[0m         metadatas\u001b[39m=\u001b[39;49mmetadatas,\n\u001b[1;32m    338\u001b[0m         documents\u001b[39m=\u001b[39;49mdocuments,\n\u001b[1;32m    339\u001b[0m         images\u001b[39m=\u001b[39;49mimages,\n\u001b[1;32m    340\u001b[0m         uris\u001b[39m=\u001b[39;49muris,\n\u001b[1;32m    341\u001b[0m     )\n\u001b[1;32m    343\u001b[0m     \u001b[39mself\u001b[39m\u001b[39m.\u001b[39m_client\u001b[39m.\u001b[39m_upsert(\n\u001b[1;32m    344\u001b[0m         collection_id\u001b[39m=\u001b[39m\u001b[39mself\u001b[39m\u001b[39m.\u001b[39mid,\n\u001b[1;32m    345\u001b[0m         ids\u001b[39m=\u001b[39mupsert_request[\u001b[39m\"\u001b[39m\u001b[39mids\u001b[39m\u001b[39m\"\u001b[39m],\n\u001b[0;32m   (...)\u001b[0m\n\u001b[1;32m    349\u001b[0m         uris\u001b[39m=\u001b[39mupsert_request[\u001b[39m\"\u001b[39m\u001b[39muris\u001b[39m\u001b[39m\"\u001b[39m],\n\u001b[1;32m    350\u001b[0m     )\n",
      "File \u001b[0;32m~/Repos/MA_thesis/venv/lib/python3.11/site-packages/chromadb/api/models/CollectionCommon.py:93\u001b[0m, in \u001b[0;36mvalidation_context.<locals>.decorator.<locals>.wrapper\u001b[0;34m(self, *args, **kwargs)\u001b[0m\n\u001b[1;32m     91\u001b[0m \u001b[39mexcept\u001b[39;00m \u001b[39mException\u001b[39;00m \u001b[39mas\u001b[39;00m e:\n\u001b[1;32m     92\u001b[0m     msg \u001b[39m=\u001b[39m \u001b[39mf\u001b[39m\u001b[39m\"\u001b[39m\u001b[39m{\u001b[39;00m\u001b[39mstr\u001b[39m(e)\u001b[39m}\u001b[39;00m\u001b[39m in \u001b[39m\u001b[39m{\u001b[39;00mname\u001b[39m}\u001b[39;00m\u001b[39m.\u001b[39m\u001b[39m\"\u001b[39m\n\u001b[0;32m---> 93\u001b[0m     \u001b[39mraise\u001b[39;00m \u001b[39mtype\u001b[39m(e)(msg)\u001b[39m.\u001b[39mwith_traceback(e\u001b[39m.\u001b[39m__traceback__)\n",
      "File \u001b[0;32m~/Repos/MA_thesis/venv/lib/python3.11/site-packages/chromadb/api/models/CollectionCommon.py:90\u001b[0m, in \u001b[0;36mvalidation_context.<locals>.decorator.<locals>.wrapper\u001b[0;34m(self, *args, **kwargs)\u001b[0m\n\u001b[1;32m     87\u001b[0m \u001b[39m@functools\u001b[39m\u001b[39m.\u001b[39mwraps(func)\n\u001b[1;32m     88\u001b[0m \u001b[39mdef\u001b[39;00m \u001b[39mwrapper\u001b[39m(\u001b[39mself\u001b[39m: Any, \u001b[39m*\u001b[39margs: Any, \u001b[39m*\u001b[39m\u001b[39m*\u001b[39mkwargs: Any) \u001b[39m-\u001b[39m\u001b[39m>\u001b[39m T:\n\u001b[1;32m     89\u001b[0m     \u001b[39mtry\u001b[39;00m:\n\u001b[0;32m---> 90\u001b[0m         \u001b[39mreturn\u001b[39;00m func(\u001b[39mself\u001b[39;49m, \u001b[39m*\u001b[39;49margs, \u001b[39m*\u001b[39;49m\u001b[39m*\u001b[39;49mkwargs)\n\u001b[1;32m     91\u001b[0m     \u001b[39mexcept\u001b[39;00m \u001b[39mException\u001b[39;00m \u001b[39mas\u001b[39;00m e:\n\u001b[1;32m     92\u001b[0m         msg \u001b[39m=\u001b[39m \u001b[39mf\u001b[39m\u001b[39m\"\u001b[39m\u001b[39m{\u001b[39;00m\u001b[39mstr\u001b[39m(e)\u001b[39m}\u001b[39;00m\u001b[39m in \u001b[39m\u001b[39m{\u001b[39;00mname\u001b[39m}\u001b[39;00m\u001b[39m.\u001b[39m\u001b[39m\"\u001b[39m\n",
      "File \u001b[0;32m~/Repos/MA_thesis/venv/lib/python3.11/site-packages/chromadb/api/models/CollectionCommon.py:389\u001b[0m, in \u001b[0;36mCollectionCommon._validate_and_prepare_upsert_request\u001b[0;34m(self, ids, embeddings, metadatas, documents, images, uris)\u001b[0m\n\u001b[1;32m    373\u001b[0m \u001b[39m@validation_context\u001b[39m(\u001b[39m\"\u001b[39m\u001b[39mupsert\u001b[39m\u001b[39m\"\u001b[39m)\n\u001b[1;32m    374\u001b[0m \u001b[39mdef\u001b[39;00m \u001b[39m_validate_and_prepare_upsert_request\u001b[39m(\n\u001b[1;32m    375\u001b[0m     \u001b[39mself\u001b[39m,\n\u001b[0;32m   (...)\u001b[0m\n\u001b[1;32m    387\u001b[0m ) \u001b[39m-\u001b[39m\u001b[39m>\u001b[39m UpsertRequest:\n\u001b[1;32m    388\u001b[0m     \u001b[39m# Unpack\u001b[39;00m\n\u001b[0;32m--> 389\u001b[0m     upsert_records \u001b[39m=\u001b[39m normalize_insert_record_set(\n\u001b[1;32m    390\u001b[0m         ids\u001b[39m=\u001b[39;49mids,\n\u001b[1;32m    391\u001b[0m         embeddings\u001b[39m=\u001b[39;49membeddings,\n\u001b[1;32m    392\u001b[0m         metadatas\u001b[39m=\u001b[39;49mmetadatas,\n\u001b[1;32m    393\u001b[0m         documents\u001b[39m=\u001b[39;49mdocuments,\n\u001b[1;32m    394\u001b[0m         images\u001b[39m=\u001b[39;49mimages,\n\u001b[1;32m    395\u001b[0m         uris\u001b[39m=\u001b[39;49muris,\n\u001b[1;32m    396\u001b[0m     )\n\u001b[1;32m    398\u001b[0m     \u001b[39m# Validate\u001b[39;00m\n\u001b[1;32m    399\u001b[0m     validate_insert_record_set(record_set\u001b[39m=\u001b[39mupsert_records)\n",
      "File \u001b[0;32m~/Repos/MA_thesis/venv/lib/python3.11/site-packages/chromadb/api/types.py:181\u001b[0m, in \u001b[0;36mnormalize_insert_record_set\u001b[0;34m(ids, embeddings, metadatas, documents, images, uris)\u001b[0m\n\u001b[1;32m    165\u001b[0m \u001b[39mdef\u001b[39;00m \u001b[39mnormalize_insert_record_set\u001b[39m(\n\u001b[1;32m    166\u001b[0m     ids: OneOrMany[ID],\n\u001b[1;32m    167\u001b[0m     embeddings: Optional[\n\u001b[0;32m   (...)\u001b[0m\n\u001b[1;32m    176\u001b[0m     uris: Optional[OneOrMany[URI]] \u001b[39m=\u001b[39m \u001b[39mNone\u001b[39;00m,\n\u001b[1;32m    177\u001b[0m ) \u001b[39m-\u001b[39m\u001b[39m>\u001b[39m InsertRecordSet:\n\u001b[1;32m    178\u001b[0m \u001b[39m    \u001b[39m\u001b[39m\"\"\"\u001b[39;00m\n\u001b[1;32m    179\u001b[0m \u001b[39m    Unpacks and normalizes the fields of an InsertRecordSet.\u001b[39;00m\n\u001b[1;32m    180\u001b[0m \u001b[39m    \"\"\"\u001b[39;00m\n\u001b[0;32m--> 181\u001b[0m     base_record_set \u001b[39m=\u001b[39m normalize_base_record_set(\n\u001b[1;32m    182\u001b[0m         embeddings\u001b[39m=\u001b[39;49membeddings, documents\u001b[39m=\u001b[39;49mdocuments, images\u001b[39m=\u001b[39;49mimages, uris\u001b[39m=\u001b[39;49muris\n\u001b[1;32m    183\u001b[0m     )\n\u001b[1;32m    185\u001b[0m     \u001b[39mreturn\u001b[39;00m InsertRecordSet(\n\u001b[1;32m    186\u001b[0m         ids\u001b[39m=\u001b[39mcast(IDs, maybe_cast_one_to_many(ids)),\n\u001b[1;32m    187\u001b[0m         metadatas\u001b[39m=\u001b[39mmaybe_cast_one_to_many(metadatas),\n\u001b[0;32m   (...)\u001b[0m\n\u001b[1;32m    191\u001b[0m         uris\u001b[39m=\u001b[39mbase_record_set[\u001b[39m\"\u001b[39m\u001b[39muris\u001b[39m\u001b[39m\"\u001b[39m],\n\u001b[1;32m    192\u001b[0m     )\n",
      "File \u001b[0;32m~/Repos/MA_thesis/venv/lib/python3.11/site-packages/chromadb/api/types.py:158\u001b[0m, in \u001b[0;36mnormalize_base_record_set\u001b[0;34m(embeddings, documents, images, uris)\u001b[0m\n\u001b[1;32m    147\u001b[0m \u001b[39mdef\u001b[39;00m \u001b[39mnormalize_base_record_set\u001b[39m(\n\u001b[1;32m    148\u001b[0m     embeddings: Optional[Union[OneOrMany[Embedding], OneOrMany[PyEmbedding]]] \u001b[39m=\u001b[39m \u001b[39mNone\u001b[39;00m,\n\u001b[1;32m    149\u001b[0m     documents: Optional[OneOrMany[Document]] \u001b[39m=\u001b[39m \u001b[39mNone\u001b[39;00m,\n\u001b[1;32m    150\u001b[0m     images: Optional[OneOrMany[Image]] \u001b[39m=\u001b[39m \u001b[39mNone\u001b[39;00m,\n\u001b[1;32m    151\u001b[0m     uris: Optional[OneOrMany[URI]] \u001b[39m=\u001b[39m \u001b[39mNone\u001b[39;00m,\n\u001b[1;32m    152\u001b[0m ) \u001b[39m-\u001b[39m\u001b[39m>\u001b[39m BaseRecordSet:\n\u001b[1;32m    153\u001b[0m \u001b[39m    \u001b[39m\u001b[39m\"\"\"\u001b[39;00m\n\u001b[1;32m    154\u001b[0m \u001b[39m    Unpacks and normalizes the fields of a BaseRecordSet.\u001b[39;00m\n\u001b[1;32m    155\u001b[0m \u001b[39m    \"\"\"\u001b[39;00m\n\u001b[1;32m    157\u001b[0m     \u001b[39mreturn\u001b[39;00m BaseRecordSet(\n\u001b[0;32m--> 158\u001b[0m         embeddings\u001b[39m=\u001b[39mnormalize_embeddings(embeddings),\n\u001b[1;32m    159\u001b[0m         documents\u001b[39m=\u001b[39mmaybe_cast_one_to_many(documents),\n\u001b[1;32m    160\u001b[0m         images\u001b[39m=\u001b[39mmaybe_cast_one_to_many(images),\n\u001b[1;32m    161\u001b[0m         uris\u001b[39m=\u001b[39mmaybe_cast_one_to_many(uris),\n\u001b[1;32m    162\u001b[0m     )\n",
      "File \u001b[0;32m~/Repos/MA_thesis/venv/lib/python3.11/site-packages/chromadb/api/types.py:61\u001b[0m, in \u001b[0;36mnormalize_embeddings\u001b[0;34m(target)\u001b[0m\n\u001b[1;32m     58\u001b[0m     \u001b[39mreturn\u001b[39;00m \u001b[39mNone\u001b[39;00m\n\u001b[1;32m     59\u001b[0m \u001b[39mif\u001b[39;00m \u001b[39misinstance\u001b[39m(target, \u001b[39mlist\u001b[39m):\n\u001b[1;32m     60\u001b[0m     \u001b[39m# One PyEmbedding\u001b[39;00m\n\u001b[0;32m---> 61\u001b[0m     \u001b[39mif\u001b[39;00m \u001b[39misinstance\u001b[39m(target[\u001b[39m0\u001b[39;49m], (\u001b[39mint\u001b[39m, \u001b[39mfloat\u001b[39m)) \u001b[39mand\u001b[39;00m \u001b[39mnot\u001b[39;00m \u001b[39misinstance\u001b[39m(target[\u001b[39m0\u001b[39m], \u001b[39mbool\u001b[39m):\n\u001b[1;32m     62\u001b[0m         \u001b[39mreturn\u001b[39;00m [np\u001b[39m.\u001b[39marray(target, dtype\u001b[39m=\u001b[39mnp\u001b[39m.\u001b[39mfloat32)]\n\u001b[1;32m     63\u001b[0m     \u001b[39m# List of PyEmbeddings\u001b[39;00m\n",
      "\u001b[0;31mIndexError\u001b[0m: list index out of range in upsert."
     ]
    }
   ],
   "source": [
    "#Define vectorstore and retriever\n",
    "vectorstore = Chroma.from_documents(documents=splits, embedding=OpenAIEmbeddings(api_key=openai_api_key))\n",
    "retriever = vectorstore.as_retriever()"
   ]
  }
 ],
 "metadata": {
  "kernelspec": {
   "display_name": "venv",
   "language": "python",
   "name": "python3"
  },
  "language_info": {
   "codemirror_mode": {
    "name": "ipython",
    "version": 3
   },
   "file_extension": ".py",
   "mimetype": "text/x-python",
   "name": "python",
   "nbconvert_exporter": "python",
   "pygments_lexer": "ipython3",
   "version": "3.11.0"
  },
  "orig_nbformat": 4
 },
 "nbformat": 4,
 "nbformat_minor": 2
}
