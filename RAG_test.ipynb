{
 "cells": [
  {
   "cell_type": "code",
   "execution_count": 7,
   "metadata": {},
   "outputs": [],
   "source": [
    "import os\n",
    "from dotenv import find_dotenv, load_dotenv\n",
    "\n",
    "dotenv_path = find_dotenv()\n",
    "load_dotenv(dotenv_path)\n",
    "\n",
    "openai_api_key = os.getenv('OPENAI-API-KEY')\n",
    "langchain_api_key = os.getenv('LANGCHAIN-API-KEY')"
   ]
  },
  {
   "cell_type": "code",
   "execution_count": 41,
   "metadata": {},
   "outputs": [],
   "source": [
    "import bs4\n",
    "from langchain import hub\n",
    "from langchain.chains import create_retrieval_chain, create_history_aware_retriever\n",
    "from langchain.chains.combine_documents import create_stuff_documents_chain\n",
    "from langchain_chroma import Chroma\n",
    "from langchain_community.document_loaders import WebBaseLoader\n",
    "from langchain_core.prompts import ChatPromptTemplate, MessagesPlaceholder\n",
    "from langchain_openai import OpenAIEmbeddings, ChatOpenAI\n",
    "from langchain_text_splitters import RecursiveCharacterTextSplitter"
   ]
  },
  {
   "cell_type": "code",
   "execution_count": 11,
   "metadata": {},
   "outputs": [],
   "source": [
    "llm = ChatOpenAI(model=\"gpt-4o-mini\", api_key=openai_api_key)"
   ]
  },
  {
   "cell_type": "code",
   "execution_count": 32,
   "metadata": {},
   "outputs": [],
   "source": [
    "loader = WebBaseLoader(\n",
    "    web_paths=[\"https://www.fcm.dk/billetter/\"]\n",
    ") #Consider including argument that removes irrelevant text\n",
    "\n",
    "docs = loader.load()\n",
    "text_splitter = RecursiveCharacterTextSplitter(chunk_size=500, chunk_overlap=100)\n",
    "splits = text_splitter.split_documents(docs)"
   ]
  },
  {
   "cell_type": "code",
   "execution_count": 33,
   "metadata": {},
   "outputs": [
    {
     "name": "stdout",
     "output_type": "stream",
     "text": [
      "[Document(metadata={'source': 'https://www.fcm.dk/billetter/', 'title': 'Billetter', 'language': 'da-DK'}, page_content='Billetter\\n\\n\\n\\n\\n\\n\\n\\n\\n\\n\\n\\n\\n\\n\\n\\n\\n\\n\\n\\n\\n\\n\\n\\n\\n\\n\\n\\n\\n\\n\\n\\n\\n\\n\\n\\n\\n\\n\\n\\n\\n\\n\\n\\n\\n\\n\\n\\n\\n\\n\\n\\n\\n\\n\\n\\n\\n\\n\\n\\n\\n\\n\\n\\n\\n\\n\\n\\n\\n\\n\\n\\n\\n\\n\\n\\n\\n\\n\\n\\n\\n\\n\\n\\n\\n\\n\\n\\n\\n\\nFans\\n\\n\\n\\n\\nSøg\\n\\n\\n\\n\\n\\n\\n\\n\\n\\nSøg efter:\\n\\n\\n\\n \\n\\n\\n\\n\\n \\n\\n\\n\\n\\n\\nMenu\\n \\n\\n\\n\\nVision 2025\\nNyheder\\nHerreholdet\\n\\nTruppen\\nStaben\\nKampprogram\\nStilling\\nKalender\\n\\n\\nKvindeholdet\\n\\nTruppen\\nStaben\\nKampprogram\\nStilling\\n\\n\\nFans\\n\\nBilletter\\nSæsonkort / BilletFlex\\nUdebaneture\\nUdebanefans\\nEvents\\nFCM-app\\n\\n\\nFCM Shop\\n\\n\\n\\nKlubben\\nDrengeakademiet\\nPigeakademiet\\nGuldminen\\nFCM Klubsamarbejdet\\nFCM Samfund\\nSponsor\\nKontakt'), Document(metadata={'source': 'https://www.fcm.dk/billetter/', 'title': 'Billetter', 'language': 'da-DK'}, page_content='Klubben\\nDrengeakademiet\\nPigeakademiet\\nGuldminen\\nFCM Klubsamarbejdet\\nFCM Samfund\\nSponsor\\nKontakt\\n\\n\\n\\nEngelsk (GBR)\\nPortugisisk (POR)\\nKoreansk (KOR)\\n\\n\\n\\n\\n\\n\\n\\n\\n\\n\\n\\n\\n\\n\\n\\n\\n\\n\\nBilletter\\n\\n\\n\\n\\n\\n\\n\\n\\n\\n\\n\\t\\t\\t\\t\\t\\t\\tBilletter\\n\\t\\t\\t\\t\\t\\t\\n\\n\\n\\n\\t\\t\\t\\t\\t\\t\\tNæste kamp\\n\\t\\t\\t\\t\\t\\t\\n\\n\\n\\n\\t\\t\\t\\t\\t\\t\\tPriser på billetter\\n\\t\\t\\t\\t\\t\\t\\n\\n\\n\\n\\t\\t\\t\\t\\t\\t\\tTribuner\\n\\t\\t\\t\\t\\t\\t\\n\\n\\n\\n\\t\\t\\t\\t\\t\\t\\tStadionoversigt\\n\\t\\t\\t\\t\\t\\t\\n\\n\\n\\n\\t\\t\\t\\t\\t\\t\\tSpørgmål og svar\\n\\t\\t\\t\\t\\t\\t\\n\\n\\n\\n\\n\\n\\n\\n\\t\\t\\t\\t\\t\\t\\tBilletter\\n\\t\\t\\t\\t\\t\\t\\n\\n\\t\\t\\t\\t\\t\\t\\tNæste kamp\\n\\t\\t\\t\\t\\t\\t\\n\\n\\t\\t\\t\\t\\t\\t\\tPriser på billetter\\n\\t\\t\\t\\t\\t\\t\\n\\n\\t\\t\\t\\t\\t\\t\\tTribuner'), Document(metadata={'source': 'https://www.fcm.dk/billetter/', 'title': 'Billetter', 'language': 'da-DK'}, page_content='Næste kamp\\n\\t\\t\\t\\t\\t\\t\\n\\n\\t\\t\\t\\t\\t\\t\\tPriser på billetter\\n\\t\\t\\t\\t\\t\\t\\n\\n\\t\\t\\t\\t\\t\\t\\tTribuner\\n\\t\\t\\t\\t\\t\\t\\n\\n\\t\\t\\t\\t\\t\\t\\tStadionoversigt\\n\\t\\t\\t\\t\\t\\t\\n\\n\\t\\t\\t\\t\\t\\t\\tSpørgmål og svar\\n\\t\\t\\t\\t\\t\\t\\n\\n\\n\\n\\n\\n\\n\\n\\n\\n\\n\\n\\n\\n\\n\\n\\n\\n\\n \\n\\n\\n\\n \\n \\n\\n\\nFodbold på hele regionens hjemmebane\\n\\n\\nHos FC Midtjylland byder vi dig velkommen på stadion, og vi har derfor samlet al relevant information, hvis du overvejer et besøg på MCH Arena.\\n\\n\\n\\n\\n\\n\\n \\n\\n\\n\\n\\n\\n \\n\\n\\n\\n\\n\\n\\n\\n\\n\\n\\n\\n\\t\\t3F Superliga\\n\\t\\n\\nmandag 25/11 kl. 19:00\\n\\t\\n\\n\\n\\n\\n\\n\\n\\n\\n\\n\\n\\n\\n\\n                FC Midtjylland\\n            \\nFCM'), Document(metadata={'source': 'https://www.fcm.dk/billetter/', 'title': 'Billetter', 'language': 'da-DK'}, page_content='mandag 25/11 kl. 19:00\\n\\t\\n\\n\\n\\n\\n\\n\\n\\n\\n\\n\\n\\n\\n\\n                FC Midtjylland\\n            \\nFCM\\n\\n\\n\\n\\n\\n\\n\\n\\n\\n\\n\\n\\n\\n\\n                Silkeborg IF\\n            \\nSIF\\n\\n\\n\\n\\n\\n            MCH Arena\\n        \\n\\n                    Billetsalget starter 18/11 kl. 10:00\\n            \\n\\n\\n\\n\\n\\n\\n\\n\\n\\n\\n\\n\\n\\n\\n\\nPriser på billetter\\n\\n\\nBilletpriserne varierer fra kamp til kamp alt efter, om der er tale om A- eller B-kampe. Find altid de aktuelle priser på billetsalg.fcm.dk.\\n\\n\\n\\n\\n\\n\\n \\n\\n\\n\\n\\n\\n\\n\\n\\n\\n\\n\\t\\t\\t\\tTribune\\n \\n\\n\\n\\t\\t\\t\\tVoksenA-kampe'), Document(metadata={'source': 'https://www.fcm.dk/billetter/', 'title': 'Billetter', 'language': 'da-DK'}, page_content='Tribune\\n \\n\\n\\n\\t\\t\\t\\tVoksenA-kampe\\n \\n\\n\\n\\t\\t\\t\\tVoksenB-kampe\\n \\n\\n\\n\\t\\t\\t\\tBarn 4-13 årA-kampe\\n \\n\\n\\n\\t\\t\\t\\tBarn 4-13 årB-kampe\\n \\n\\n\\n\\n\\n\\n\\t\\t\\t\\tFaxe Kondi D1\\n \\n\\n\\n\\t\\t\\t\\t210,-\\n \\n\\n\\n\\t\\t\\t\\t145,-\\n \\n\\n\\n\\t\\t\\t\\t85,-\\n \\n\\n\\n\\t\\t\\t\\t60,-\\n \\n\\n\\n\\n\\n\\t\\t\\t\\tFaxe Kondi D2\\n \\n\\n\\n\\t\\t\\t\\t235,-\\n \\n\\n\\n\\t\\t\\t\\t160,-\\n \\n\\n\\n\\t\\t\\t\\t110,-\\n \\n\\n\\n\\t\\t\\t\\t85,-\\n \\n\\n\\n\\n\\n\\t\\t\\t\\tFaxe Kondi D3\\n \\n\\n\\n\\t\\t\\t\\t210,-\\n \\n\\n\\n\\t\\t\\t\\t145,-\\n \\n\\n\\n\\t\\t\\t\\t85,-\\n \\n\\n\\n\\t\\t\\t\\t60,-\\n \\n\\n\\n\\n\\n\\t\\t\\t\\tFaxe Kondi Familie\\n \\n\\n\\n\\t\\t\\t\\t210,-\\n \\n\\n\\n\\t\\t\\t\\t145,-\\n \\n\\n\\n\\t\\t\\t\\t85,-\\n \\n\\n\\n\\t\\t\\t\\t60,-\\n \\n\\n\\n\\n\\n\\t\\t\\t\\tC.C. Contractor\\n \\n\\n\\n\\t\\t\\t\\t135,-'), Document(metadata={'source': 'https://www.fcm.dk/billetter/', 'title': 'Billetter', 'language': 'da-DK'}, page_content='210,-\\n \\n\\n\\n\\t\\t\\t\\t145,-\\n \\n\\n\\n\\t\\t\\t\\t85,-\\n \\n\\n\\n\\t\\t\\t\\t60,-\\n \\n\\n\\n\\n\\n\\t\\t\\t\\tC.C. Contractor\\n \\n\\n\\n\\t\\t\\t\\t135,-\\n \\n\\n\\n\\t\\t\\t\\t120,-\\n \\n\\n\\n\\t\\t\\t\\t85,-\\n \\n\\n\\n\\t\\t\\t\\t60,-\\n \\n\\n\\n\\n\\n\\t\\t\\t\\tAL-Bank\\n \\n\\n\\n\\t\\t\\t\\t160,-\\n \\n\\n\\n\\t\\t\\t\\t130,-\\n \\n\\n\\n\\t\\t\\t\\t85,-\\n \\n\\n\\n\\t\\t\\t\\t60,-\\n \\n\\n\\n\\n\\n\\t\\t\\t\\tAL-Bank (Udebaneafsnit)\\n \\n\\n\\n\\t\\t\\t\\t135,-\\n \\n\\n\\n\\t\\t\\t\\t120,-\\n \\n\\n\\n\\t\\t\\t\\t85,-\\n \\n\\n\\n\\t\\t\\t\\t60,-\\n \\n\\n\\n\\n\\n\\t\\t\\t\\tKørestol (AL-Bank)\\n \\n\\n\\n\\t\\t\\t\\t160,-\\n \\n\\n\\n\\t\\t\\t\\t130,-\\n \\n\\n\\n\\t\\t\\t\\t85,-\\n \\n\\n\\n\\t\\t\\t\\t60,-\\n \\n\\n\\n\\n\\n\\t\\t\\t\\tScan Global\\n \\n\\n\\n\\t\\t\\t\\t210,-\\n \\n\\n\\n\\t\\t\\t\\t145,-\\n \\n\\n\\n\\t\\t\\t\\t85,-\\n \\n\\n\\n\\t\\t\\t\\t60,-'), Document(metadata={'source': 'https://www.fcm.dk/billetter/', 'title': 'Billetter', 'language': 'da-DK'}, page_content='Scan Global\\n \\n\\n\\n\\t\\t\\t\\t210,-\\n \\n\\n\\n\\t\\t\\t\\t145,-\\n \\n\\n\\n\\t\\t\\t\\t85,-\\n \\n\\n\\n\\t\\t\\t\\t60,-\\n \\n\\n\\n\\n\\n\\n\\n\\n \\n\\n\\n\\n\\n\\n\\nPriserne ovenfor er onlinepriser. Køber du billet på stadion på kampdage eller i receptionen på MCH Arena, vil der være et håndteringsgebyr på 25 kr. pr. billet.\\nKøb din billet\\n\\n\\n\\n\\n\\n\\n \\n\\n\\n\\n\\n\\n\\n\\n\\n\\n \\n\\n\\n\\n\\n\\n\\n\\n\\n\\n\\n\\n\\n\\n\\nHvilken tribune skal jeg vælge?\\n\\n\\nDer er forskel på tribunerne på MCH Arena, og du får den bedste fodboldoplevelse, hvis du sidder det rette sted. Vælg den tribune, der passer bedst til dig.'), Document(metadata={'source': 'https://www.fcm.dk/billetter/', 'title': 'Billetter', 'language': 'da-DK'}, page_content='Faxe Kondi-tribunen\\nDen største af vores tribuner og langsiden af MCH Arena, hvor du har et fantastisk udsyn til banen. Det er også her, de fleste trofaste sæsonkortholdere holder til.\\nPå Faxe Kondi-tribunen er der et familieafsnit, hvor vores yngste fans kan opleve kampen tæt placeret på stemningstribunen C.C. Contractor.'), Document(metadata={'source': 'https://www.fcm.dk/billetter/', 'title': 'Billetter', 'language': 'da-DK'}, page_content='AL-Bank-tribunen\\nDen ene af vores endetribuner, hvor en bred skare af vores fans sidder. AL-Bank-tribunen er for yngre som ældre FCM-fans.\\nDenne endetribune deles med udebaneafsnittet, hvor der ofte er solid opbakning til udeholdet.'), Document(metadata={'source': 'https://www.fcm.dk/billetter/', 'title': 'Billetter', 'language': 'da-DK'}, page_content='C.C. Contractor-tribunen\\nDette er ståtribunen, hvor fanklubben Black Wolves og Hedens Drenge holder til og sætter stemningen for den velkendte 12. mand, som gennem mange år har hjulpet holdet til at gøre MCH Arena til et tæt på uindtageligt fort.\\nHer bidrager du til stemningen, og der vil ofte både være flag, tifoer og andet, der løfter stemningen på MCH Arena.\\n\\n\\n\\n\\n\\n\\n\\n\\n\\n\\n\\n\\n\\n\\n\\n\\n\\n\\n\\n\\n\\n\\n\\n\\n\\n \\n\\n\\n\\n\\n\\n\\n\\n\\n\\n\\n\\n\\n\\n\\n\\n\\n\\n\\n\\nFå svar på dine spørgsmål om billetter'), Document(metadata={'source': 'https://www.fcm.dk/billetter/', 'title': 'Billetter', 'language': 'da-DK'}, page_content='Få svar på dine spørgsmål om billetter\\n\\n\\nHos FC Midtjylland ønsker vi at give dig den bedste oplevelse som billetkøber. Derfor kan du her finde svar på en række af de mest almindelige spørgsmål om billetter.\\n\\n\\n\\n\\n\\n\\t\\t\\t\\t\\t\\t\\t\\t\\tHvornår kan jeg købe en billet?'), Document(metadata={'source': 'https://www.fcm.dk/billetter/', 'title': 'Billetter', 'language': 'da-DK'}, page_content='Hvornår kan jeg købe en billet?\\n\\t\\t\\t\\t\\t\\t\\t\\t\\n\\n\\n\\n\\n\\n\\n\\n\\n\\nBilletsalget til vores hjemmekampe starter ca. 14 dage før kampen. I kampprogrammet kan du altid finde den præcise dato, og ellers henviser vi til billetsalg.fcm.dk, hvor du også kan se, hvornår du kan købe billet.\\nPå kampdage kan du købe billet i Infohuset, som åbner to timer før kampstart.\\n\\n\\n\\n\\n\\n\\n\\n\\t\\t\\t\\t\\t\\t\\t\\t\\tHvad koster en billet?'), Document(metadata={'source': 'https://www.fcm.dk/billetter/', 'title': 'Billetter', 'language': 'da-DK'}, page_content='Hvad koster en billet?\\n\\t\\t\\t\\t\\t\\t\\t\\t\\n\\n\\n\\n\\n\\n\\n\\n\\n\\nBilletpriserne varierer fra kamp til kamp alt efter, om der er tale om A- eller B-kampe, men i skemaet ovenfor kan du se billetpriserne.\\nDu kan også altid se priserne på billetter til de enkelte kampe på billetsalg.fcm.dk, når kampene er sat til salg.\\n\\n\\n\\n\\n\\n\\n\\n\\t\\t\\t\\t\\t\\t\\t\\t\\tHvordan køber jeg en billet?'), Document(metadata={'source': 'https://www.fcm.dk/billetter/', 'title': 'Billetter', 'language': 'da-DK'}, page_content='Hvordan køber jeg en billet?\\n\\t\\t\\t\\t\\t\\t\\t\\t\\n\\n\\n\\n\\n\\n\\n\\n\\n\\nDu køber billet til vores hjemmekampe på billetsalg.fcm.dk. Du skal have en konto i vores billetsystem for at kunne købe billet, så vi anbefaler at oprette en konto på forhånd.\\nOpret en konto\\nNår du har oprettet en konto, kan du købe billet ved at følge denne guide:'), Document(metadata={'source': 'https://www.fcm.dk/billetter/', 'title': 'Billetter', 'language': 'da-DK'}, page_content='Log ind på din konto på billetsalg.fcm.dk.\\nKlik på den kamp, du vil købe billet til.\\nKlik på den tribune, du vil købe billet til.\\nKlik på den plads, du vil købe billet til, og klik derefter på den røde cirkel nederst i højre hjørne.\\nVælg om billetten skal være en voksen- eller børnebillet, og klik derefter på den røde cirkel nederst i højre hjørne.\\nRet eventuelt dine oplysninger og klik \"Næste\".\\nGodkend handelsbetingelserne og klik \"Næste\".'), Document(metadata={'source': 'https://www.fcm.dk/billetter/', 'title': 'Billetter', 'language': 'da-DK'}, page_content='Ret eventuelt dine oplysninger og klik \"Næste\".\\nGodkend handelsbetingelserne og klik \"Næste\".\\nBetal for billetten for at afslutte købet. Der vises nu et grønt flueben på skærmen.\\nKlik på \"Hent til print\" for at downloade billetten som PDF, eller klik på \"Send billetter som SMS\" for at sende billetten til din mobil.'), Document(metadata={'source': 'https://www.fcm.dk/billetter/', 'title': 'Billetter', 'language': 'da-DK'}, page_content='Billetten skal medbringes og scannes ved indgangen til MCH Arena.\\n\\n\\n\\n\\n\\n\\n\\n\\t\\t\\t\\t\\t\\t\\t\\t\\tKan der være restriktioner på billetsalget?'), Document(metadata={'source': 'https://www.fcm.dk/billetter/', 'title': 'Billetter', 'language': 'da-DK'}, page_content='Som udgangspunkt kan alle købe billet til vores kampe, men til udvalgte kampe kan der dog af sikkerhedsmæssige årsager være restriktioner på billetsalget, hvilket betyder, at man tidligere skal have købt billet til en af vores kampe for at kunne købe igen. Det gør vi for at begrænse muligheden for, at udeholdets fans køber billet til et FCM-afsnit.\\nDe eventuelle restriktioner vil blive meldt ud i forbindelse med åbningen af billetsalget til de enkelte kampe.'), Document(metadata={'source': 'https://www.fcm.dk/billetter/', 'title': 'Billetter', 'language': 'da-DK'}, page_content='Kan jeg få refunderet min billet?\\n\\t\\t\\t\\t\\t\\t\\t\\t\\n\\n\\n\\n\\n\\n\\n\\n\\n\\nNej, du kan ikke få refunderet din billet. I henhold til vores handelsbetingelser, som du accepterer ved køb af billetter, refunderer vi ikke billetter.\\n\\n\\n\\n\\n\\n\\n\\n\\t\\t\\t\\t\\t\\t\\t\\t\\tMå jeg give min billet videre til en anden?\\n\\t\\t\\t\\t\\t\\t\\t\\t\\n\\n\\n\\n\\n\\n\\n\\n\\n\\nJa, det må du gerne. Har du ikke mulighed for at komme, er du velkommen til at give din billet videre til en anden.\\n\\n\\n\\n\\n\\n\\n\\n\\t\\t\\t\\t\\t\\t\\t\\t\\tHvad er aldersgrænsen for børn?'), Document(metadata={'source': 'https://www.fcm.dk/billetter/', 'title': 'Billetter', 'language': 'da-DK'}, page_content='Hvad er aldersgrænsen for børn?\\n\\t\\t\\t\\t\\t\\t\\t\\t\\n\\n\\n\\n\\n\\n\\n\\n\\n\\nAldersgrænsen for børn er 4-13 år. Er du 14 år eller ældre, tæller du som voksen. Børn på 3 år eller yngre skal ikke have billet for at komme ind.\\n\\n\\n\\n\\n\\n\\n\\n\\t\\t\\t\\t\\t\\t\\t\\t\\tKan jeg opgradere en børnebillet til en voksenbillet?'), Document(metadata={'source': 'https://www.fcm.dk/billetter/', 'title': 'Billetter', 'language': 'da-DK'}, page_content='Kan jeg opgradere en børnebillet til en voksenbillet?\\n\\t\\t\\t\\t\\t\\t\\t\\t\\n\\n\\n\\n\\n\\n\\n\\n\\n\\nJa, det kan du godt. Har du købt en børnebillet ved en fejl, eller er du fyldt 14 år, efter du har købt en børnebillet, skal du opgradere til en voksenbillet.\\nSkriv til os på billetsalg@fcm.dk med billetnummer på den billet, der skal opgraderes, så kan vi gøre det for dig. Du skal betale differencen mellem en børnebillet og en voksenbillet samt et gebyr på 25 kr.'), Document(metadata={'source': 'https://www.fcm.dk/billetter/', 'title': 'Billetter', 'language': 'da-DK'}, page_content='Kan min billet scannes fra mobilen?'), Document(metadata={'source': 'https://www.fcm.dk/billetter/', 'title': 'Billetter', 'language': 'da-DK'}, page_content='Ja, du kan få tilsendt din billet som SMS og scanne den fra mobilen. Når du har gennemført transaktionen, kan du trykke på knappen \"Send billetter som SMS\" og indtaste mobilnummer. Herefter vil billetten blive sendt til din mobil.\\nHar du købt flere billetter og ønsker at sende hver enkelt billet til forskellige mobilnumre, kan du ud for hver enkelt billet klikke på \"Send billet som SMS\" og derefter indtaste mobilnummer.\\nDu kan også få vist billetten i FCM-app\\'en.'), Document(metadata={'source': 'https://www.fcm.dk/billetter/', 'title': 'Billetter', 'language': 'da-DK'}, page_content='Du kan også få vist billetten i FCM-app\\'en.\\nVia linket nedenfor kan du læse, hvordan du får billetten vist i FCM-app\\'en – se afsnittet \"Hvordan bliver sæsonkort og billetter vist i app\\'en?\".\\nSæsonkort og billetter i app\\'en'), Document(metadata={'source': 'https://www.fcm.dk/billetter/', 'title': 'Billetter', 'language': 'da-DK'}, page_content='Kan jeg få min billet som SMS, selvom jeg allerede har printet den?\\n\\t\\t\\t\\t\\t\\t\\t\\t\\n\\n\\n\\n\\n\\n\\n\\n\\n\\nJa, det kan du sagtens. Du kan altid logge ind på din konto i vores billetsystem og genprinte eller gensende din billet. Du gør det ved at følge denne guide:'), Document(metadata={'source': 'https://www.fcm.dk/billetter/', 'title': 'Billetter', 'language': 'da-DK'}, page_content='Log ind på din konto på billetsalg.fcm.dk.\\nKlik på dit navn/billede øverst i højre hjørne og vælg \"Transaktionsliste\".\\nKlik på den transaktion, du vil genprinte eller gensende.\\nKlik på \"Hent til print\" for at downloade billetten som PDF, eller klik på \"Send billetter som SMS\" for at sende billetten til din mobil.'), Document(metadata={'source': 'https://www.fcm.dk/billetter/', 'title': 'Billetter', 'language': 'da-DK'}, page_content='Billetten skal medbringes og scannes ved indgangen til MCH Arena. Vær opmærksom på, at der er samme stregkode både på printbilletten og SMS-billetten, så du kan kun scanne én af billetterne.\\n\\n\\n\\n\\n\\n\\n\\n\\t\\t\\t\\t\\t\\t\\t\\t\\tHvad gør jeg, hvis jeg har mistet min billet?\\n\\t\\t\\t\\t\\t\\t\\t\\t\\n\\n\\n\\n\\n\\n\\n\\n\\n\\nHvis du mister din billet, kan du altid logge ind på din konto i vores billetsystem og genprinte eller gensende din billet. Du gør det ved at følge denne guide:'), Document(metadata={'source': 'https://www.fcm.dk/billetter/', 'title': 'Billetter', 'language': 'da-DK'}, page_content='Log ind på din konto på billetsalg.fcm.dk.\\nKlik på dit navn/billede øverst i højre hjørne og vælg \"Transaktionsliste\".\\nKlik på den transaktion, du vil genprinte eller gensende.\\nKlik på \"Hent til print\" for at downloade billetten som PDF, eller klik på \"Send billetter som SMS\" for at sende billetten til din mobil.\\n\\nBilletten skal medbringes og scannes ved indgangen til MCH Arena.\\n\\n\\n\\n\\n\\n\\n\\n\\t\\t\\t\\t\\t\\t\\t\\t\\tHvorfor ser stregkoden på min billet anderledes ud?'), Document(metadata={'source': 'https://www.fcm.dk/billetter/', 'title': 'Billetter', 'language': 'da-DK'}, page_content='Hvorfor ser stregkoden på min billet anderledes ud?\\n\\t\\t\\t\\t\\t\\t\\t\\t\\n\\n\\n\\n\\n\\n\\n\\n\\n\\nPå vores billetter bruger vi stregkoder af typen PDF417. Stregkoderne ser ikke ud som du normalt kender dem, men de er gode nok, selvom de ser anderledes ud, så du kan sagtens scanne dem både fra en fysisk billet og en SMS-billet.\\n\\n\\n\\n\\n\\n\\n\\n\\t\\t\\t\\t\\t\\t\\t\\t\\tHvad er værd at vide som kørestolsbruger, når man skal på MCH Arena?'), Document(metadata={'source': 'https://www.fcm.dk/billetter/', 'title': 'Billetter', 'language': 'da-DK'}, page_content='Nedenfor har vi samlet vigtig information, hvis du som kørestolsbruger eller handicappet skal på MCH Arena.\\nBilletter\\nPå AL-Bank-tribunen har vi 19 pladser forbeholdt kørestolsbrugere inkl. ledsager. Disse pladser kan købes i forsalg. Det er også muligt at købe almindelige billetter inkl. ledsagerbillet, hvis ikke en kørestolsplads er nødvendig.\\nSkriv til os på billetsalg@fcm.dk, hvis du vil købe en af pladserne. Ledsageren kommer gratis ind mod fremvisning af ledsagerkort.'), Document(metadata={'source': 'https://www.fcm.dk/billetter/', 'title': 'Billetter', 'language': 'da-DK'}, page_content='Priser på billetter kan ses i prisoversigten længere oppe på siden.\\nDet er også muligt at henvende sig i Infohuset på kampdage, hvor du også kan købe handicap- og kørestolspladser inkl. ledsagerbillet. Du finder Infohuset på forsiden af MCH Arena.\\nDer er ikke tilladt at bære udeholdets trøje eller merchandise, hvis man sidder på kørestolspladserne på AL-Bank-tribunen. Det er kun tilladt at bære udeholdets tøj og merchandise, hvis man har en plads i udebaneafsnittet.\\nParkering'), Document(metadata={'source': 'https://www.fcm.dk/billetter/', 'title': 'Billetter', 'language': 'da-DK'}, page_content='Parkering\\nDet er muligt at parkere tæt på stadion. Der er 20 stk. handicappladser til rådighed på P1 (VIP-parkering) foran MCH Arena. Herfra er der omkring 100 meter til indgangen til stadion på AL-Bank-tribunen. For adgang til disse parkeringspladser kræves der et synligt handicap P-bevis i forruden af bilen.\\nIndgangsforhold'), Document(metadata={'source': 'https://www.fcm.dk/billetter/', 'title': 'Billetter', 'language': 'da-DK'}, page_content='Indgangsforhold\\nFor adgang til kørestolspladserne på MCH Arena skal man benytte Indgang 1, hvor der er adgang til en elevator, der kører op til det niveau (AL-Bank-tribunen), hvor kørestolspladserne er. Kørestolsindgangen er tydeligt markeret med et skilt på kampdage.\\nDer er mulighed for at handle i boden på AL-Bank-tribunen, og der er også adgang til handicaptoilet. Begge er placeret i stueplan, og elevatoren kan benyttes til begge dele.'), Document(metadata={'source': 'https://www.fcm.dk/billetter/', 'title': 'Billetter', 'language': 'da-DK'}, page_content='Kan jeg få adgang med et DBU Partoutkort?\\n\\t\\t\\t\\t\\t\\t\\t\\t\\n\\n\\n\\n\\n\\n\\n\\n\\n\\nHar du et DBU Partoutkort, kan du få adgang til FC Midtjyllands hjemmekampe. Det kan ske ved at møde op i Infohuset foran MCH Arena på kampdagen eller ved skriftlig henvendelse til billetsalg@fcm.dk tidligst 14 dage før kampen. Herefter kan vi udstede en billet til dig.\\nDu finder yderligere information om gældende retningslinjer for adgang med DBU Partoutkort via linket nedenfor.\\nLæs om DBU Partoutkort'), Document(metadata={'source': 'https://www.fcm.dk/billetter/', 'title': 'Billetter', 'language': 'da-DK'}, page_content=\"Information\\n\\n\\nNyheder\\n\\n\\nTruppen\\n\\n\\nKampprogram\\n\\n\\nBilletter\\n\\n\\nSæsonkort / BilletFlex\\n\\n\\nFCM-app\\n\\n\\nSponsorer\\n\\n\\n\\n\\n\\nFølg os\\n\\n\\n\\n \\n\\n \\n\\n \\n\\n \\n\\n Sprog\\n\\n\\nEngelsk (GBR)\\n\\n\\nPortugisisk (POR)\\n\\n\\nKoreansk (KOR)\\n\\n\\n\\n\\n\\n\\n\\nTilmeld nyhedsbrev\\n\\n\\n\\n\\n\\n\\n\\n\\n\\n\\n\\n\\n\\n\\n\\r\\n\\t\\tJeg vil gerne modtage FC Midtjyllands nyhedsbrev og accepterer vilkårene for nyhedsbreve.\\r\\n     \\n\\n\\n\\n\\nLeave this field empty if you're human:\"), Document(metadata={'source': 'https://www.fcm.dk/billetter/', 'title': 'Billetter', 'language': 'da-DK'}, page_content=\"Leave this field empty if you're human: \\n\\n\\n\\n\\n\\n\\n\\nPrivatlivspolitik\\nCookiepolitik\\nVilkår for nyhedsbreve\\nKontrolrapport\\n\\n\\n\\n\\n\\n\\n\\n\\t\\t\\t\\t\\tCOPYRIGHT 2024 © FC MIDTJYLLAND\")]\n"
     ]
    }
   ],
   "source": [
    "print(splits)  # Print the first few splits to inspect their content\n"
   ]
  },
  {
   "cell_type": "code",
   "execution_count": 34,
   "metadata": {},
   "outputs": [],
   "source": [
    "#Define vectorstore and retriever\n",
    "vectorstore = Chroma.from_documents(documents=splits, embedding=OpenAIEmbeddings(api_key=openai_api_key))\n",
    "retriever = vectorstore.as_retriever()"
   ]
  },
  {
   "cell_type": "code",
   "execution_count": 35,
   "metadata": {},
   "outputs": [],
   "source": [
    "# 2. Incorporate the retriever into a question-answering chain.\n",
    "system_prompt = (\n",
    "    \"Du er en assistent der skal svare på spørgsmål fra fans af fodbolklubben FC Midtjylland. \"\n",
    "    \"Brug følgende kontekst til at besvare spørgsmålet. \"\n",
    "    \"Hvis du ikke kender svaret, henvis til mailen billetsalg@fcm.dk. \"\n",
    "    \"Brug maks tre sætninger og svar præcist. \"\n",
    "    \"\\n\\n\"\n",
    "    \"{context}\"\n",
    ")\n",
    "\n",
    "prompt = ChatPromptTemplate.from_messages(\n",
    "    [\n",
    "        (\"system\", system_prompt),\n",
    "        (\"human\", \"{input}\"),\n",
    "    ]\n",
    ")\n"
   ]
  },
  {
   "cell_type": "code",
   "execution_count": 36,
   "metadata": {},
   "outputs": [],
   "source": [
    "question_answer_chain = create_stuff_documents_chain(llm, prompt)\n",
    "rag_chain = create_retrieval_chain(retriever, question_answer_chain)"
   ]
  },
  {
   "cell_type": "code",
   "execution_count": 40,
   "metadata": {},
   "outputs": [
    {
     "data": {
      "text/plain": [
       "'Du kan desværre ikke få refunderet din billet, da vi ikke refunderer billetter i henhold til vores handelsbetingelser.'"
      ]
     },
     "execution_count": 40,
     "metadata": {},
     "output_type": "execute_result"
    }
   ],
   "source": [
    "response = rag_chain.invoke({\"input\": \"Hvordan refunderer jeg min billet?\"})\n",
    "response[\"answer\"]"
   ]
  }
 ],
 "metadata": {
  "kernelspec": {
   "display_name": "venv",
   "language": "python",
   "name": "python3"
  },
  "language_info": {
   "codemirror_mode": {
    "name": "ipython",
    "version": 3
   },
   "file_extension": ".py",
   "mimetype": "text/x-python",
   "name": "python",
   "nbconvert_exporter": "python",
   "pygments_lexer": "ipython3",
   "version": "3.11.0"
  },
  "orig_nbformat": 4
 },
 "nbformat": 4,
 "nbformat_minor": 2
}
