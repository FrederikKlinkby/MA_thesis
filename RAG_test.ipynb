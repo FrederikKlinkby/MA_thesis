{
 "cells": [
  {
   "cell_type": "code",
   "execution_count": 7,
   "metadata": {},
   "outputs": [],
   "source": [
    "import os\n",
    "from dotenv import find_dotenv, load_dotenv\n",
    "\n",
    "dotenv_path = find_dotenv()\n",
    "load_dotenv(dotenv_path)\n",
    "\n",
    "openai_api_key = os.getenv('OPENAI-API-KEY')\n",
    "langchain_api_key = os.getenv('LANGCHAIN-API-KEY')"
   ]
  },
  {
   "cell_type": "code",
   "execution_count": 41,
   "metadata": {},
   "outputs": [],
   "source": [
    "import bs4\n",
    "from langchain import hub\n",
    "from langchain.chains import create_retrieval_chain, create_history_aware_retriever\n",
    "from langchain.chains.combine_documents import create_stuff_documents_chain\n",
    "from langchain_chroma import Chroma\n",
    "from langchain_community.document_loaders import WebBaseLoader\n",
    "from langchain_core.prompts import ChatPromptTemplate, MessagesPlaceholder\n",
    "from langchain_openai import OpenAIEmbeddings, ChatOpenAI\n",
    "from langchain_text_splitters import RecursiveCharacterTextSplitter"
   ]
  },
  {
   "cell_type": "code",
   "execution_count": 11,
   "metadata": {},
   "outputs": [],
   "source": [
    "llm = ChatOpenAI(model=\"gpt-4o-mini\", api_key=openai_api_key)"
   ]
  },
  {
   "cell_type": "code",
   "execution_count": 45,
   "metadata": {},
   "outputs": [],
   "source": [
    "loader = WebBaseLoader(\n",
    "    web_paths=[\"https://www.fcm.dk/billetter/\", 'https://www.fcm.dk/saesonkort/']\n",
    ") #Consider including argument that removes irrelevant text\n",
    "\n",
    "docs = loader.load()\n",
    "text_splitter = RecursiveCharacterTextSplitter(chunk_size=500, chunk_overlap=100)\n",
    "splits = text_splitter.split_documents(docs)"
   ]
  },
  {
   "cell_type": "code",
   "execution_count": 59,
   "metadata": {},
   "outputs": [
    {
     "name": "stdout",
     "output_type": "stream",
     "text": [
      "Number of splits: 111\n",
      "[Document(metadata={'source': 'https://www.fcm.dk/saesonkort/', 'title': 'Sæsonkort', 'language': 'da-DK'}, page_content='Kan jeg skifte plads på mit sæsonkort?\\n\\t\\t\\t\\t\\t\\t\\t\\t\\n\\n\\n\\n\\n\\n\\n\\n\\n\\nJa, det kan du, men det kræver, at du skal have et nyt sæsonkort til din nye plads. Det koster et gebyr på 100 kr. at printe et sæsonkort. Skriv til os på billetsalg@fcm.dk med nummeret på dit nuværende sæsonkort og pladsen på dit nye sæsonkort, så kan vi gøre det for dig. Du skal betale differencen mellem pladserne samt gebyret på 100 kr.'), Document(metadata={'source': 'https://www.fcm.dk/saesonkort/', 'title': 'Sæsonkort', 'language': 'da-DK'}, page_content='Kan jeg sidde/stå på en anden plads/tribune til en enkelt kamp?'), Document(metadata={'source': 'https://www.fcm.dk/saesonkort/', 'title': 'Sæsonkort', 'language': 'da-DK'}, page_content='Ja, det kan du, men så skal du have en billet til den enkelte kamp. Skriv til os på billetsalg@fcm.dk med nummeret på dit sæsonkort og den plads, du ønsker at sidde/stå på, så kan vi gøre det for dig. Du skal betale differencen mellem pladserne samt et gebyr på 25 kr.\\nOBS. Dit sæsonkort bliver spærret til den valgte kamp. Til den efterfølgende kamp kan du naturligvis bruge dit sæsonkort igen som du plejer.'), Document(metadata={'source': 'https://www.fcm.dk/saesonkort/', 'title': 'Sæsonkort', 'language': 'da-DK'}, page_content=\"Information\\n\\n\\nNyheder\\n\\n\\nTruppen\\n\\n\\nKampprogram\\n\\n\\nBilletter\\n\\n\\nSæsonkort / BilletFlex\\n\\n\\nFCM-app\\n\\n\\nSponsorer\\n\\n\\n\\n\\n\\nFølg os\\n\\n\\n\\n \\n\\n \\n\\n \\n\\n \\n\\n Sprog\\n\\n\\nEngelsk (GBR)\\n\\n\\nPortugisisk (POR)\\n\\n\\nKoreansk (KOR)\\n\\n\\n\\n\\n\\n\\n\\nTilmeld nyhedsbrev\\n\\n\\n\\n\\n\\n\\n\\n\\n\\n\\n\\n\\n\\n\\n\\r\\n\\t\\tJeg vil gerne modtage FC Midtjyllands nyhedsbrev og accepterer vilkårene for nyhedsbreve.\\r\\n     \\n\\n\\n\\n\\nLeave this field empty if you're human:\"), Document(metadata={'source': 'https://www.fcm.dk/saesonkort/', 'title': 'Sæsonkort', 'language': 'da-DK'}, page_content=\"Leave this field empty if you're human: \\n\\n\\n\\n\\n\\n\\n\\nPrivatlivspolitik\\nCookiepolitik\\nVilkår for nyhedsbreve\\nKontrolrapport\\n\\n\\n\\n\\n\\n\\n\\n\\t\\t\\t\\t\\tCOPYRIGHT 2024 © FC MIDTJYLLAND\")]\n"
     ]
    }
   ],
   "source": [
    "print(f\"Number of splits: {len(splits)}\")\n",
    "print(splits[-5:])  # Print the first few splits to inspect their content\n"
   ]
  },
  {
   "cell_type": "code",
   "execution_count": 51,
   "metadata": {},
   "outputs": [],
   "source": [
    "#Define vectorstore and retriever\n",
    "vectorstore = Chroma.from_documents(documents=splits, embedding=OpenAIEmbeddings(api_key=openai_api_key))\n",
    "retriever = vectorstore.as_retriever(k=5)"
   ]
  },
  {
   "cell_type": "code",
   "execution_count": 52,
   "metadata": {},
   "outputs": [],
   "source": [
    "# 2. Incorporate the retriever into a question-answering chain.\n",
    "system_prompt = (\n",
    "    \"Du er en assistent der skal svare på spørgsmål fra fans af fodbolklubben FC Midtjylland. \"\n",
    "    \"Brug følgende kontekst til at besvare spørgsmålet. \"\n",
    "    \"Hvis du ikke kender svaret, henvis til mailen billetsalg@fcm.dk. \"\n",
    "    \"Brug maks fire sætninger og svar præcist. \"\n",
    "    \"\\n\\n\"\n",
    "    \"{context}\"\n",
    ")\n",
    "\n",
    "prompt = ChatPromptTemplate.from_messages(\n",
    "    [\n",
    "        (\"system\", system_prompt),\n",
    "        (\"human\", \"{input}\"),\n",
    "    ]\n",
    ")\n"
   ]
  },
  {
   "cell_type": "code",
   "execution_count": 53,
   "metadata": {},
   "outputs": [],
   "source": [
    "question_answer_chain = create_stuff_documents_chain(llm, prompt)\n",
    "rag_chain = create_retrieval_chain(retriever, question_answer_chain)"
   ]
  },
  {
   "cell_type": "code",
   "execution_count": 54,
   "metadata": {},
   "outputs": [
    {
     "data": {
      "text/plain": [
       "'BilletFlex er en løsning for dem, der ønsker adgang til alle kampe på MCH Arena, men ikke kan deltage hver gang. Med BilletFlex skal du aktivt trække billetter fra kamp til kamp, så du ikke optager en plads til de kampe, du ikke deltager i. Hvis du kommer til mindst 65% af kampene i en sæson, vil du blive tilbudt et sæsonkort med fast plads i den efterfølgende sæson.'"
      ]
     },
     "execution_count": 54,
     "metadata": {},
     "output_type": "execute_result"
    }
   ],
   "source": [
    "response = rag_chain.invoke({\"input\": \"Hvad er billetflex?\"})\n",
    "response[\"answer\"]"
   ]
  },
  {
   "cell_type": "code",
   "execution_count": null,
   "metadata": {},
   "outputs": [],
   "source": []
  }
 ],
 "metadata": {
  "kernelspec": {
   "display_name": "venv",
   "language": "python",
   "name": "python3"
  },
  "language_info": {
   "codemirror_mode": {
    "name": "ipython",
    "version": 3
   },
   "file_extension": ".py",
   "mimetype": "text/x-python",
   "name": "python",
   "nbconvert_exporter": "python",
   "pygments_lexer": "ipython3",
   "version": "3.11.0"
  },
  "orig_nbformat": 4
 },
 "nbformat": 4,
 "nbformat_minor": 2
}
