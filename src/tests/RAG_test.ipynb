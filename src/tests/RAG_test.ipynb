{
 "cells": [
  {
   "cell_type": "code",
   "execution_count": 2,
   "metadata": {},
   "outputs": [
    {
     "ename": "ModuleNotFoundError",
     "evalue": "No module named 'dotenv'",
     "output_type": "error",
     "traceback": [
      "\u001b[1;31m---------------------------------------------------------------------------\u001b[0m",
      "\u001b[1;31mModuleNotFoundError\u001b[0m                       Traceback (most recent call last)",
      "Cell \u001b[1;32mIn[2], line 2\u001b[0m\n\u001b[0;32m      1\u001b[0m \u001b[38;5;28;01mimport\u001b[39;00m\u001b[38;5;250m \u001b[39m\u001b[38;5;21;01mos\u001b[39;00m\n\u001b[1;32m----> 2\u001b[0m \u001b[38;5;28;01mfrom\u001b[39;00m\u001b[38;5;250m \u001b[39m\u001b[38;5;21;01mdotenv\u001b[39;00m\u001b[38;5;250m \u001b[39m\u001b[38;5;28;01mimport\u001b[39;00m find_dotenv, load_dotenv\n\u001b[0;32m      4\u001b[0m dotenv_path \u001b[38;5;241m=\u001b[39m find_dotenv()\n\u001b[0;32m      5\u001b[0m load_dotenv(dotenv_path)\n",
      "\u001b[1;31mModuleNotFoundError\u001b[0m: No module named 'dotenv'"
     ]
    }
   ],
   "source": [
    "import os\n",
    "from dotenv import find_dotenv, load_dotenv\n",
    "\n",
    "dotenv_path = find_dotenv()\n",
    "load_dotenv(dotenv_path)\n",
    "\n",
    "OPENAI_API_KEY = os.getenv('OPENAI-API-KEY')\n",
    "langchain_api_key = os.getenv('LANGCHAIN-API-KEY')"
   ]
  },
  {
   "cell_type": "code",
   "execution_count": 5,
   "metadata": {},
   "outputs": [
    {
     "ename": "ModuleNotFoundError",
     "evalue": "No module named 'langchain'",
     "output_type": "error",
     "traceback": [
      "\u001b[1;31m---------------------------------------------------------------------------\u001b[0m",
      "\u001b[1;31mModuleNotFoundError\u001b[0m                       Traceback (most recent call last)",
      "Cell \u001b[1;32mIn[5], line 2\u001b[0m\n\u001b[0;32m      1\u001b[0m \u001b[38;5;28;01mimport\u001b[39;00m\u001b[38;5;250m \u001b[39m\u001b[38;5;21;01mbs4\u001b[39;00m\n\u001b[1;32m----> 2\u001b[0m \u001b[38;5;28;01mfrom\u001b[39;00m\u001b[38;5;250m \u001b[39m\u001b[38;5;21;01mlangchain\u001b[39;00m\u001b[38;5;250m \u001b[39m\u001b[38;5;28;01mimport\u001b[39;00m hub\n\u001b[0;32m      3\u001b[0m \u001b[38;5;28;01mfrom\u001b[39;00m\u001b[38;5;250m \u001b[39m\u001b[38;5;21;01mlangchain\u001b[39;00m\u001b[38;5;21;01m.\u001b[39;00m\u001b[38;5;21;01mchains\u001b[39;00m\u001b[38;5;250m \u001b[39m\u001b[38;5;28;01mimport\u001b[39;00m create_retrieval_chain, create_history_aware_retriever\n\u001b[0;32m      4\u001b[0m \u001b[38;5;28;01mfrom\u001b[39;00m\u001b[38;5;250m \u001b[39m\u001b[38;5;21;01mlangchain\u001b[39;00m\u001b[38;5;21;01m.\u001b[39;00m\u001b[38;5;21;01mchains\u001b[39;00m\u001b[38;5;21;01m.\u001b[39;00m\u001b[38;5;21;01mcombine_documents\u001b[39;00m\u001b[38;5;250m \u001b[39m\u001b[38;5;28;01mimport\u001b[39;00m create_stuff_documents_chain\n",
      "\u001b[1;31mModuleNotFoundError\u001b[0m: No module named 'langchain'"
     ]
    }
   ],
   "source": [
    "import bs4\n",
    "from langchain import hub\n",
    "from langchain.chains import create_retrieval_chain, create_history_aware_retriever\n",
    "from langchain.chains.combine_documents import create_stuff_documents_chain\n",
    "from langchain_chroma import Chroma\n",
    "from langchain_community.document_loaders import WebBaseLoader\n",
    "from langchain_core.prompts import ChatPromptTemplate, MessagesPlaceholder\n",
    "from langchain_openai import OpenAIEmbeddings, ChatOpenAI\n",
    "from langchain_text_splitters import RecursiveCharacterTextSplitter"
   ]
  },
  {
   "cell_type": "code",
   "execution_count": null,
   "metadata": {},
   "outputs": [],
   "source": [
    "llm = ChatOpenAI(model=\"gpt-4o-mini\", api_key=OPENAI_API_KEY)"
   ]
  },
  {
   "cell_type": "code",
   "execution_count": 45,
   "metadata": {},
   "outputs": [],
   "source": [
    "loader = WebBaseLoader(\n",
    "    web_paths=[\"https://www.fcm.dk/billetter/\", 'https://www.fcm.dk/saesonkort/']\n",
    ") #Consider including argument that removes irrelevant text\n",
    "\n",
    "docs = loader.load()\n",
    "text_splitter = RecursiveCharacterTextSplitter(chunk_size=500, chunk_overlap=100)\n",
    "splits = text_splitter.split_documents(docs)"
   ]
  },
  {
   "cell_type": "code",
   "execution_count": 59,
   "metadata": {},
   "outputs": [
    {
     "name": "stdout",
     "output_type": "stream",
     "text": [
      "Number of splits: 111\n",
      "[Document(metadata={'source': 'https://www.fcm.dk/saesonkort/', 'title': 'Sæsonkort', 'language': 'da-DK'}, page_content='Kan jeg skifte plads på mit sæsonkort?\\n\\t\\t\\t\\t\\t\\t\\t\\t\\n\\n\\n\\n\\n\\n\\n\\n\\n\\nJa, det kan du, men det kræver, at du skal have et nyt sæsonkort til din nye plads. Det koster et gebyr på 100 kr. at printe et sæsonkort. Skriv til os på billetsalg@fcm.dk med nummeret på dit nuværende sæsonkort og pladsen på dit nye sæsonkort, så kan vi gøre det for dig. Du skal betale differencen mellem pladserne samt gebyret på 100 kr.'), Document(metadata={'source': 'https://www.fcm.dk/saesonkort/', 'title': 'Sæsonkort', 'language': 'da-DK'}, page_content='Kan jeg sidde/stå på en anden plads/tribune til en enkelt kamp?'), Document(metadata={'source': 'https://www.fcm.dk/saesonkort/', 'title': 'Sæsonkort', 'language': 'da-DK'}, page_content='Ja, det kan du, men så skal du have en billet til den enkelte kamp. Skriv til os på billetsalg@fcm.dk med nummeret på dit sæsonkort og den plads, du ønsker at sidde/stå på, så kan vi gøre det for dig. Du skal betale differencen mellem pladserne samt et gebyr på 25 kr.\\nOBS. Dit sæsonkort bliver spærret til den valgte kamp. Til den efterfølgende kamp kan du naturligvis bruge dit sæsonkort igen som du plejer.'), Document(metadata={'source': 'https://www.fcm.dk/saesonkort/', 'title': 'Sæsonkort', 'language': 'da-DK'}, page_content=\"Information\\n\\n\\nNyheder\\n\\n\\nTruppen\\n\\n\\nKampprogram\\n\\n\\nBilletter\\n\\n\\nSæsonkort / BilletFlex\\n\\n\\nFCM-app\\n\\n\\nSponsorer\\n\\n\\n\\n\\n\\nFølg os\\n\\n\\n\\n \\n\\n \\n\\n \\n\\n \\n\\n Sprog\\n\\n\\nEngelsk (GBR)\\n\\n\\nPortugisisk (POR)\\n\\n\\nKoreansk (KOR)\\n\\n\\n\\n\\n\\n\\n\\nTilmeld nyhedsbrev\\n\\n\\n\\n\\n\\n\\n\\n\\n\\n\\n\\n\\n\\n\\n\\r\\n\\t\\tJeg vil gerne modtage FC Midtjyllands nyhedsbrev og accepterer vilkårene for nyhedsbreve.\\r\\n     \\n\\n\\n\\n\\nLeave this field empty if you're human:\"), Document(metadata={'source': 'https://www.fcm.dk/saesonkort/', 'title': 'Sæsonkort', 'language': 'da-DK'}, page_content=\"Leave this field empty if you're human: \\n\\n\\n\\n\\n\\n\\n\\nPrivatlivspolitik\\nCookiepolitik\\nVilkår for nyhedsbreve\\nKontrolrapport\\n\\n\\n\\n\\n\\n\\n\\n\\t\\t\\t\\t\\tCOPYRIGHT 2024 © FC MIDTJYLLAND\")]\n"
     ]
    }
   ],
   "source": [
    "print(f\"Number of splits: {len(splits)}\")\n",
    "print(splits[-5:])  # Print the first few splits to inspect their content\n"
   ]
  },
  {
   "cell_type": "code",
   "execution_count": null,
   "metadata": {},
   "outputs": [],
   "source": [
    "#Define vectorstore and retriever\n",
    "vectorstore = Chroma.from_documents(documents=splits, embedding=OpenAIEmbeddings(api_key=OPENAI_API_KEY))\n",
    "retriever = vectorstore.as_retriever(k=5)"
   ]
  },
  {
   "cell_type": "code",
   "execution_count": 52,
   "metadata": {},
   "outputs": [],
   "source": [
    "# 2. Incorporate the retriever into a question-answering chain.\n",
    "system_prompt = (\n",
    "    \"Du er en assistent der skal svare på spørgsmål fra fans af fodbolklubben FC Midtjylland. \"\n",
    "    \"Brug følgende kontekst til at besvare spørgsmålet. \"\n",
    "    \"Hvis du ikke kender svaret, henvis til mailen billetsalg@fcm.dk. \"\n",
    "    \"Brug maks fire sætninger og svar præcist. \"\n",
    "    \"\\n\\n\"\n",
    "    \"{context}\"\n",
    ")\n",
    "\n",
    "prompt = ChatPromptTemplate.from_messages(\n",
    "    [\n",
    "        (\"system\", system_prompt),\n",
    "        (\"human\", \"{input}\"),\n",
    "    ]\n",
    ")\n"
   ]
  },
  {
   "cell_type": "code",
   "execution_count": 53,
   "metadata": {},
   "outputs": [],
   "source": [
    "question_answer_chain = create_stuff_documents_chain(llm, prompt)\n",
    "rag_chain = create_retrieval_chain(retriever, question_answer_chain)"
   ]
  },
  {
   "cell_type": "code",
   "execution_count": 61,
   "metadata": {},
   "outputs": [
    {
     "data": {
      "text/plain": [
       "'For at købe et sæsonkort til FC Midtjylland, skal du logge ind på din konto på billetsalg.fcm.dk. Gå til forsiden og vælg det sæsonkort, du ønsker, enten Sæsonkort Premium Abonnement eller Sæsonkort Standard Abonnement. Følg derefter vejledningen for at afslutte købet. Hvis du har brug for yderligere assistance, kan du kontakte billetsalg@fcm.dk.'"
      ]
     },
     "execution_count": 61,
     "metadata": {},
     "output_type": "execute_result"
    }
   ],
   "source": [
    "response = rag_chain.invoke({\"input\": \"Hvordan køber jeg sæsonkort?\"})\n",
    "response[\"answer\"]"
   ]
  },
  {
   "cell_type": "code",
   "execution_count": null,
   "metadata": {},
   "outputs": [],
   "source": []
  },
  {
   "cell_type": "code",
   "execution_count": null,
   "metadata": {},
   "outputs": [],
   "source": []
  }
 ],
 "metadata": {
  "kernelspec": {
   "display_name": "Python 3",
   "language": "python",
   "name": "python3"
  },
  "language_info": {
   "codemirror_mode": {
    "name": "ipython",
    "version": 3
   },
   "file_extension": ".py",
   "mimetype": "text/x-python",
   "name": "python",
   "nbconvert_exporter": "python",
   "pygments_lexer": "ipython3",
   "version": "3.11.4"
  },
  "orig_nbformat": 4
 },
 "nbformat": 4,
 "nbformat_minor": 2
}
